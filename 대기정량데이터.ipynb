{
  "cells": [
    {
      "cell_type": "code",
      "execution_count": null,
      "metadata": {
        "colab": {
          "base_uri": "https://localhost:8080/"
        },
        "id": "ru8sM4sTHvgY",
        "outputId": "5c3886e5-4b67-4955-9f98-7cce8dafadc6"
      },
      "outputs": [
        {
          "name": "stdout",
          "output_type": "stream",
          "text": [
            "모든 파일이 병합되었습니다. 결과는 '/content/merged_file.csv'에 저장되었습니다.\n"
          ]
        }
      ],
      "source": [
        "import os\n",
        "import pandas as pd\n",
        "\n",
        "# 1. 엑셀 파일이 저장된 폴더 경로 지정\n",
        "base_dir = '/content/sample_data/미세먼지'  # 폴더 경로 입력 (코랩에 압축 파일 업로드 후 압축 해제한 폴더 경로)\n",
        "\n",
        "# 2. 파일 탐색 (정렬 없이 모든 파일 탐색)\n",
        "all_files = []\n",
        "for root, dirs, files in os.walk(base_dir):\n",
        "    for file in files:\n",
        "        if file.endswith('.xlsx'):\n",
        "            file_path = os.path.join(root, file)\n",
        "            all_files.append(file_path)\n",
        "\n",
        "# 3. 결과를 저장할 CSV 파일 경로\n",
        "output_file = '/content/merged_file.csv'\n",
        "\n",
        "# 4. 병합 수행\n",
        "first_file = True  # 첫 번째 파일 여부를 확인\n",
        "for file_path in all_files:\n",
        "    temp_data = pd.read_excel(file_path)\n",
        "\n",
        "    # 첫 번째 파일만 헤더 포함하여 저장, 이후 파일은 헤더 제외\n",
        "    temp_data.to_csv(output_file, mode='a', index=False, header=first_file)\n",
        "    first_file = False  # 첫 번째 파일 이후에는 헤더를 제외\n",
        "\n",
        "print(f\"모든 파일이 병합되었습니다. 결과는 '{output_file}'에 저장되었습니다.\")\n"
      ]
    },
    {
      "cell_type": "code",
      "execution_count": null,
      "metadata": {
        "id": "501IS_yAtoeV",
        "colab": {
          "base_uri": "https://localhost:8080/"
        },
        "outputId": "3de286c1-6160-4392-9070-ca95a724b4de"
      },
      "outputs": [
        {
          "output_type": "stream",
          "name": "stdout",
          "text": [
            "Drive already mounted at /content/drive; to attempt to forcibly remount, call drive.mount(\"/content/drive\", force_remount=True).\n"
          ]
        }
      ],
      "source": [
        "from google.colab import drive\n",
        "drive.mount('/content/drive')\n"
      ]
    },
    {
      "cell_type": "code",
      "source": [],
      "metadata": {
        "colab": {
          "base_uri": "https://localhost:8080/",
          "height": 217
        },
        "id": "-7BYNveWwaF0",
        "outputId": "0e40f539-9c43-4174-f85a-c0c0dfa28e3c"
      },
      "execution_count": null,
      "outputs": [
        {
          "output_type": "error",
          "ename": "NameError",
          "evalue": "name 'filtered_df_path' is not defined",
          "traceback": [
            "\u001b[0;31m---------------------------------------------------------------------------\u001b[0m",
            "\u001b[0;31mNameError\u001b[0m                                 Traceback (most recent call last)",
            "\u001b[0;32m<ipython-input-10-48fea48bc17c>\u001b[0m in \u001b[0;36m<cell line: 9>\u001b[0;34m()\u001b[0m\n\u001b[1;32m      7\u001b[0m \u001b[0;34m\u001b[0m\u001b[0m\n\u001b[1;32m      8\u001b[0m \u001b[0;31m# 기존 필터링된 데이터 로드\u001b[0m\u001b[0;34m\u001b[0m\u001b[0;34m\u001b[0m\u001b[0m\n\u001b[0;32m----> 9\u001b[0;31m \u001b[0mfiltered_df\u001b[0m \u001b[0;34m=\u001b[0m \u001b[0mpd\u001b[0m\u001b[0;34m.\u001b[0m\u001b[0mread_csv\u001b[0m\u001b[0;34m(\u001b[0m\u001b[0mfiltered_df_path\u001b[0m\u001b[0;34m)\u001b[0m\u001b[0;34m\u001b[0m\u001b[0;34m\u001b[0m\u001b[0m\n\u001b[0m\u001b[1;32m     10\u001b[0m \u001b[0;34m\u001b[0m\u001b[0m\n\u001b[1;32m     11\u001b[0m \u001b[0;31m# 수정된 분석결과 데이터 로드\u001b[0m\u001b[0;34m\u001b[0m\u001b[0;34m\u001b[0m\u001b[0m\n",
            "\u001b[0;31mNameError\u001b[0m: name 'filtered_df_path' is not defined"
          ]
        }
      ]
    },
    {
      "cell_type": "code",
      "execution_count": null,
      "metadata": {
        "colab": {
          "base_uri": "https://localhost:8080/"
        },
        "id": "aVWakgrsp56U",
        "outputId": "62bdf347-5067-414d-d169-678414744544"
      },
      "outputs": [
        {
          "output_type": "stream",
          "name": "stderr",
          "text": [
            "<ipython-input-3-228abf4464ac>:7: DtypeWarning: Columns (2,4,5,6,7,8,9,10) have mixed types. Specify dtype option on import or set low_memory=False.\n",
            "  data = pd.read_csv(file_path)\n"
          ]
        },
        {
          "output_type": "stream",
          "name": "stdout",
          "text": [
            "데이터 전처리 후 정보:\n",
            "<class 'pandas.core.frame.DataFrame'>\n",
            "Index: 21222981 entries, 0 to 24180291\n",
            "Data columns (total 9 columns):\n",
            " #   Column  Dtype \n",
            "---  ------  ----- \n",
            " 0   SO2     object\n",
            " 1   CO      object\n",
            " 2   O3      object\n",
            " 3   NO2     object\n",
            " 4   PM10    object\n",
            " 5   PM25    object\n",
            " 6   주소      object\n",
            " 7   Year    object\n",
            " 8   Month   object\n",
            "dtypes: object(9)\n",
            "memory usage: 1.6+ GB\n",
            "None\n",
            "전처리된 데이터가 '/content/drive/MyDrive/MNIST/미세먼지_정량_작업용.csv' 파일로 저장되었습니다.\n"
          ]
        }
      ],
      "source": [
        "import pandas as pd\n",
        "\n",
        "# CSV 파일 경로\n",
        "file_path = '/content/drive/MyDrive/MNIST/미세먼지_정량.csv'\n",
        "\n",
        "# CSV 파일 읽기\n",
        "data = pd.read_csv(file_path)\n",
        "\n",
        "# 결측값 제거\n",
        "data = data.dropna()\n",
        "\n",
        "# 값이 0인 행 제거\n",
        "columns_to_check = ['SO2', 'CO', 'O3', 'NO2', 'PM10', 'PM25']\n",
        "for col in columns_to_check:\n",
        "    data = data[data[col] != 0]\n",
        "\n",
        "# 지역, 망, 측정소코드, 측정소명 열 삭제\n",
        "columns_to_drop = ['지역', '망', '측정소코드', '측정소명']\n",
        "data = data.drop(columns=columns_to_drop)\n",
        "\n",
        "# 측정일시에서 Year와 Month 추출\n",
        "data['Year'] = data['측정일시'].astype(str).str[:4]\n",
        "data['Month'] = data['측정일시'].astype(str).str[4:6]\n",
        "\n",
        "# 기존 측정일시 열 삭제\n",
        "data = data.drop(columns=['측정일시'])\n",
        "\n",
        "# 데이터프레임 정보 출력\n",
        "print(\"데이터 전처리 후 정보:\")\n",
        "print(data.info())\n",
        "\n",
        "# 전처리 후 데이터를 새로운 파일로 저장\n",
        "output_path = '/content/drive/MyDrive/MNIST/미세먼지_정량_작업용.csv'\n",
        "data.to_csv(output_path, index=False, encoding='utf-8-sig')\n",
        "\n",
        "print(f\"전처리된 데이터가 '{output_path}' 파일로 저장되었습니다.\")\n"
      ]
    },
    {
      "cell_type": "code",
      "source": [
        "import pandas as pd\n",
        "\n",
        "# 저장된 파일 로드\n",
        "output_path = '/content/drive/MyDrive/MNIST/미세먼지_정량_작업용.csv'\n",
        "data = pd.read_csv(output_path)\n",
        "\n",
        "# 컬럼명 추출\n",
        "columns = data.columns.tolist()\n",
        "\n",
        "# 출력\n",
        "print(\"Columns in the dataset:\")\n",
        "print(columns)\n"
      ],
      "metadata": {
        "colab": {
          "base_uri": "https://localhost:8080/"
        },
        "id": "MMqcj07kYrBC",
        "outputId": "9ded1259-fe65-4226-93a3-10d9d2140324"
      },
      "execution_count": null,
      "outputs": [
        {
          "output_type": "stream",
          "name": "stderr",
          "text": [
            "<ipython-input-6-21f68f2b96b5>:5: DtypeWarning: Columns (0,1,2,3,4,5,7) have mixed types. Specify dtype option on import or set low_memory=False.\n",
            "  data = pd.read_csv(output_path)\n"
          ]
        },
        {
          "output_type": "stream",
          "name": "stdout",
          "text": [
            "Columns in the dataset:\n",
            "['SO2', 'CO', 'O3', 'NO2', 'PM10', 'PM25', '주소', 'Year', 'Month']\n"
          ]
        }
      ]
    },
    {
      "cell_type": "code",
      "source": [
        "import pandas as pd\n",
        "\n",
        "# CSV 파일 경로\n",
        "file_path = '/content/drive/MyDrive/MNIST/미세먼지_정량_작업용.csv'\n",
        "\n",
        "# CSV 파일 읽기\n",
        "data = pd.read_csv(file_path)\n",
        "\n",
        "# 결측값 제거\n",
        "data = data.dropna()\n",
        "\n",
        "# 데이터 타입 변환 (object -> float)\n",
        "columns_to_convert = ['SO2', 'CO', 'O3', 'NO2', 'PM10', 'PM25']\n",
        "for col in columns_to_convert:\n",
        "    data[col] = pd.to_numeric(data[col], errors='coerce')\n",
        "\n",
        "# 결측값 다시 제거 (숫자로 변환 불가한 값)\n",
        "data = data.dropna()\n",
        "\n",
        "# 지표별 점수화 기준 함수 정의\n",
        "def categorize_so2(value):\n",
        "    if value <= 0.02:\n",
        "        return 1  # 좋음 (+1)\n",
        "    elif value <= 0.04:\n",
        "        return 0  # 보통 (0)\n",
        "    else:\n",
        "        return -1  # 나쁨 (-1)\n",
        "\n",
        "def categorize_co(value):\n",
        "    if value <= 1:\n",
        "        return 1\n",
        "    elif value <= 9:\n",
        "        return 0\n",
        "    else:\n",
        "        return -1\n",
        "\n",
        "def categorize_o3(value):\n",
        "    if 0.03 <= value <= 0.06:\n",
        "        return 1  # 적정 범위 (+1)\n",
        "    else:\n",
        "        return -1  # 나쁨 (-1)\n",
        "\n",
        "def categorize_no2(value):\n",
        "    if value <= 0.03:\n",
        "        return 1\n",
        "    elif value <= 0.06:\n",
        "        return 0\n",
        "    else:\n",
        "        return -1\n",
        "\n",
        "def categorize_pm10(value):\n",
        "    if value <= 30:\n",
        "        return 1\n",
        "    elif value <= 80:\n",
        "        return 0\n",
        "    else:\n",
        "        return -1\n",
        "\n",
        "def categorize_pm25(value):\n",
        "    if value <= 15:\n",
        "        return 1\n",
        "    elif value <= 35:\n",
        "        return 0\n",
        "    else:\n",
        "        return -1\n",
        "\n",
        "\n",
        "# 지표별 점수 부여\n",
        "data['SO2_score'] = data['SO2'].apply(categorize_so2)\n",
        "data['CO_score'] = data['CO'].apply(categorize_co)\n",
        "data['O3_score'] = data['O3'].apply(categorize_o3)\n",
        "data['NO2_score'] = data['NO2'].apply(categorize_no2)\n",
        "data['PM10_score'] = data['PM10'].apply(categorize_pm10)\n",
        "data['PM25_score'] = data['PM25'].apply(categorize_pm25)\n",
        "\n",
        "# 가중치 정의\n",
        "weights = {\n",
        "    'SO2': 0.1,\n",
        "    'CO': 0.1,\n",
        "    'O3': 0.2,\n",
        "    'NO2': 0.2,\n",
        "    'PM10': 0.2,\n",
        "    'PM25': 0.2\n",
        "}\n",
        "\n",
        "# 종합 점수 계산\n",
        "data['종합점수'] = (\n",
        "    data['SO2_score'] * weights['SO2'] +\n",
        "    data['CO_score'] * weights['CO'] +\n",
        "    data['O3_score'] * weights['O3'] +\n",
        "    data['NO2_score'] * weights['NO2'] +\n",
        "    data['PM10_score'] * weights['PM10'] +\n",
        "    data['PM25_score'] * weights['PM25']\n",
        ")\n",
        "\n",
        "# 점수 미리보기\n",
        "print(data[['Year', 'Month','SO2', 'CO', 'O3', 'NO2', 'PM10', 'PM25', '종합점수']].head())\n",
        "\n",
        "# 전처리된 데이터 저장\n",
        "output_path = '/content/drive/MyDrive/MNIST/미세먼지_정량_작업용_점수화.csv'\n",
        "data.to_csv(output_path, index=False, encoding='utf-8-sig')\n",
        "\n",
        "print(f\"점수화된 데이터가 '{output_path}'에 저장되었습니다.\")\n"
      ],
      "metadata": {
        "colab": {
          "base_uri": "https://localhost:8080/"
        },
        "id": "TU02AvLTTtue",
        "outputId": "9ec0b571-b958-49d5-ebc4-093557ad2a54"
      },
      "execution_count": null,
      "outputs": [
        {
          "output_type": "stream",
          "name": "stderr",
          "text": [
            "<ipython-input-5-ded8d1e18f45>:7: DtypeWarning: Columns (0,1,2,3,4,5,7) have mixed types. Specify dtype option on import or set low_memory=False.\n",
            "  data = pd.read_csv(file_path)\n"
          ]
        },
        {
          "output_type": "stream",
          "name": "stdout",
          "text": [
            "   Year  Month    SO2   CO     O3    NO2  PM10  PM25  종합점수\n",
            "0  2020   10.0  0.003  0.3  0.020  0.012  16.0   8.0   0.6\n",
            "1  2020   10.0  0.002  0.3  0.025  0.007   8.0   4.0   0.6\n",
            "2  2020   10.0  0.002  0.3  0.022  0.008   8.0   3.0   0.6\n",
            "3  2020   10.0  0.002  0.3  0.023  0.007   7.0   4.0   0.6\n",
            "4  2020   10.0  0.003  0.3  0.024  0.006   7.0   5.0   0.6\n",
            "점수화된 데이터가 '/content/drive/MyDrive/MNIST/미세먼지_정량_작업용_점수화.csv'에 저장되었습니다.\n"
          ]
        }
      ]
    },
    {
      "cell_type": "code",
      "source": [
        "# 필요한 열만 선택하여 새로운 데이터프레임 생성\n",
        "selected_columns = ['종합점수', 'Year', 'Month']\n",
        "filtered_data = data[selected_columns]\n",
        "\n",
        "# 결과 출력\n",
        "print(filtered_data.head())\n",
        "\n",
        "# 필터링된 데이터 저장\n",
        "output_path = '/content/drive/MyDrive/MNIST/241208_미세먼지_종합점수.csv'\n",
        "filtered_data.to_csv(output_path, index=False, encoding='utf-8-sig')\n",
        "\n",
        "print(f\"필터링된 데이터가 '{output_path}'에 저장되었습니다.\")\n"
      ],
      "metadata": {
        "colab": {
          "base_uri": "https://localhost:8080/"
        },
        "id": "HSU9Aa2Mcwyf",
        "outputId": "9f8fa26a-1093-44a5-bd89-e2b8c6b162cd"
      },
      "execution_count": null,
      "outputs": [
        {
          "output_type": "stream",
          "name": "stdout",
          "text": [
            "   종합점수  Year  Month\n",
            "0   0.6  2020   10.0\n",
            "1   0.6  2020   10.0\n",
            "2   0.6  2020   10.0\n",
            "3   0.6  2020   10.0\n",
            "4   0.6  2020   10.0\n",
            "필터링된 데이터가 '/content/drive/MyDrive/MNIST/241208_미세먼지_종합점수.csv'에 저장되었습니다.\n"
          ]
        }
      ]
    },
    {
      "cell_type": "code",
      "source": [],
      "metadata": {
        "id": "hw21FUf4w2p_"
      },
      "execution_count": null,
      "outputs": []
    },
    {
      "cell_type": "code",
      "source": [
        "import pandas as pd\n",
        "\n",
        "# 데이터 로드\n",
        "file_path = '/content/drive/MyDrive/MNIST/녹조_종합점수_필터링.csv'\n",
        "data = pd.read_csv(file_path)\n",
        "\n",
        "# 'Category' 열 추가 및 값 채우기\n",
        "data.insert(0, 'Category', '녹조')  # 맨 앞 열에 'Category' 추가하고 '녹조'로 채움\n",
        "\n",
        "# 결과 확인\n",
        "print(data.head())\n",
        "\n",
        "# 데이터 저장\n",
        "output_path = '/content/drive/MyDrive/MNIST/녹조_종합점수final.csv'\n",
        "data.to_csv(output_path, index=False, encoding='utf-8-sig')\n",
        "\n",
        "print(f\"'Category' 열이 추가된 데이터가 '{output_path}'에 저장되었습니다.\")\n"
      ],
      "metadata": {
        "colab": {
          "base_uri": "https://localhost:8080/"
        },
        "id": "RX-XcXKeiBov",
        "outputId": "e64ada5a-ca5c-42f0-88c4-a207c0ad0385"
      },
      "execution_count": null,
      "outputs": [
        {
          "output_type": "stream",
          "name": "stdout",
          "text": [
            "  Category  종합점수  Year  Month\n",
            "0       녹조   0.0  2024      4\n",
            "1       녹조   0.1  2024      4\n",
            "2       녹조   0.3  2024      4\n",
            "3       녹조   0.2  2024      4\n",
            "4       녹조   0.2  2024      4\n",
            "'Category' 열이 추가된 데이터가 '/content/drive/MyDrive/MNIST/녹조_종합점수final.csv'에 저장되었습니다.\n"
          ]
        }
      ]
    },
    {
      "cell_type": "code",
      "source": [
        "import pandas as pd\n",
        "\n",
        "# 데이터 로드\n",
        "file_path = '/content/drive/MyDrive/MNIST/미세먼지_종합점수.csv'\n",
        "data = pd.read_csv(file_path)\n",
        "\n",
        "# 'Category' 열 추가 및 값 채우기\n",
        "data.insert(0, 'Category', '미세먼지')  # 맨 앞 열에 'Category' 추가하고 '녹조'로 채움\n",
        "\n",
        "# 결과 확인\n",
        "print(data.head())\n",
        "\n",
        "# 데이터 저장\n",
        "output_path = '/content/drive/MyDrive/MNIST/미세먼지_종합점수final.csv'\n",
        "data.to_csv(output_path, index=False, encoding='utf-8-sig')\n",
        "\n",
        "print(f\"'Category' 열이 추가된 데이터가 '{output_path}'에 저장되었습니다.\")\n"
      ],
      "metadata": {
        "colab": {
          "base_uri": "https://localhost:8080/"
        },
        "id": "x-qCKgGUiPKo",
        "outputId": "898a933e-f029-4861-a02c-cb273418eb76"
      },
      "execution_count": null,
      "outputs": [
        {
          "output_type": "stream",
          "name": "stdout",
          "text": [
            "  Category  종합점수  Year  Month\n",
            "0     미세먼지   0.6  2020   10.0\n",
            "1     미세먼지   0.6  2020   10.0\n",
            "2     미세먼지   0.6  2020   10.0\n",
            "3     미세먼지   0.6  2020   10.0\n",
            "4     미세먼지   0.6  2020   10.0\n",
            "'Category' 열이 추가된 데이터가 '/content/drive/MyDrive/MNIST/미세먼지_종합점수final.csv'에 저장되었습니다.\n"
          ]
        }
      ]
    },
    {
      "cell_type": "code",
      "source": [
        "import pandas as pd\n",
        "import numpy as np\n",
        "\n",
        "# 1. 데이터 로드\n",
        "existing_file_path = '/content/drive/MyDrive/MNIST/미세먼지_종합점수_2019_2024_추세반영_수정.csv'\n",
        "trend_file_path = '/content/drive/MyDrive/MNIST/수정된_분석결과(241208).csv'\n",
        "\n",
        "# 기존 파일 로드\n",
        "existing_df = pd.read_csv(existing_file_path)\n",
        "\n",
        "# 수정된 분석결과 데이터 로드\n",
        "trend_df = pd.read_csv(trend_file_path)\n",
        "\n",
        "# 2. 2023~2024년 '미세먼지' 월별 평균 추세 계산\n",
        "trend_mean = trend_df[trend_df['Year'] >= 2023].groupby(['Month'])['미세먼지'].mean().reset_index()\n",
        "\n",
        "# 3. 2019~2024년 전체 Year, Month 생성\n",
        "all_years = pd.DataFrame({\n",
        "    'Year': np.repeat(range(2019, 2025), 12),\n",
        "    'Month': list(range(1, 13)) * 6\n",
        "})\n",
        "\n",
        "# 기존 데이터와 병합 (누락된 연도 및 월을 생성)\n",
        "expanded_df = pd.merge(all_years, existing_df, on=['Year', 'Month'], how='outer')\n",
        "\n",
        "# 4. 결측치 채우기\n",
        "# (1) Category가 없는 경우 '미세먼지'로 채우기\n",
        "expanded_df['Category'] = expanded_df['Category'].fillna('미세먼지')\n",
        "\n",
        "# (2) 종합점수 결측치 채우기 - 추세 반영 및 1점 제한\n",
        "def fill_nan_with_trend(row):\n",
        "    if pd.isna(row['종합점수']):\n",
        "        # 추세 데이터에서 일치하는 Month의 미세먼지 값 가져오기\n",
        "        matching_trend = trend_mean[trend_mean['Month'] == row['Month']]\n",
        "        if not matching_trend.empty:\n",
        "            # 추세 값 가져오기\n",
        "            trend_value = matching_trend['미세먼지'].values[0]\n",
        "            # ±10% 변동 범위로 랜덤 값 생성 (추세 값이 1을 넘지 않도록)\n",
        "            random_value = np.random.uniform(max(0, 0.9 * trend_value), min(1, 1.1 * trend_value))\n",
        "            return random_value\n",
        "    return row['종합점수']\n",
        "\n",
        "expanded_df['종합점수'] = expanded_df.apply(fill_nan_with_trend, axis=1)\n",
        "\n",
        "# 5. 결과 저장\n",
        "output_path = '/content/drive/MyDrive/MNIST/미세먼지_종합점수_2019_2024_추세반영_최종.csv'\n",
        "expanded_df.to_csv(output_path, index=False, encoding='utf-8-sig')\n",
        "\n",
        "print(f\"기존 데이터에 새 데이터를 추가하여 저장했습니다: {output_path}\")\n"
      ],
      "metadata": {
        "colab": {
          "base_uri": "https://localhost:8080/"
        },
        "id": "8y5L5spcw3l4",
        "outputId": "845cdcd1-584a-4de9-8b58-1f2761a3f50a"
      },
      "execution_count": null,
      "outputs": [
        {
          "output_type": "stream",
          "name": "stdout",
          "text": [
            "기존 데이터에 새 데이터를 추가하여 저장했습니다: /content/drive/MyDrive/MNIST/미세먼지_종합점수_2019_2024_추세반영_최종.csv\n"
          ]
        }
      ]
    },
    {
      "cell_type": "code",
      "source": [
        "# 4. 결측치 채우기\n",
        "# (1) Category가 없는 경우 '미세먼지'로 채우기\n",
        "expanded_df['Category'] = expanded_df['Category'].fillna('미세먼지')"
      ],
      "metadata": {
        "id": "gUXwU9na4A3O"
      },
      "execution_count": null,
      "outputs": []
    },
    {
      "cell_type": "code",
      "source": [
        "# 5. 결과 저장\n",
        "output_path = '/content/drive/MyDrive/MNIST/미세먼지_종합점수_2019_2024_추세반영_수정.csv'\n",
        "expanded_df.to_csv(output_path, index=False, encoding='utf-8-sig')"
      ],
      "metadata": {
        "id": "vEAeSZ1G4EJd"
      },
      "execution_count": null,
      "outputs": []
    },
    {
      "cell_type": "code",
      "source": [
        "category_counts = expanded_df['Month'].value_counts()\n",
        "print(category_counts)\n"
      ],
      "metadata": {
        "colab": {
          "base_uri": "https://localhost:8080/"
        },
        "id": "5H5w9xl82S6J",
        "outputId": "f9124542-bf40-48f8-88c8-714881886d50"
      },
      "execution_count": null,
      "outputs": [
        {
          "output_type": "stream",
          "name": "stdout",
          "text": [
            "Month\n",
            "10    737387\n",
            "4     706159\n",
            "5     423063\n",
            "12    366511\n",
            "11    338941\n",
            "1          6\n",
            "2          6\n",
            "3          6\n",
            "6          6\n",
            "7          6\n",
            "8          6\n",
            "9          6\n",
            "Name: count, dtype: int64\n"
          ]
        }
      ]
    },
    {
      "cell_type": "code",
      "source": [
        "print(expanded_df[expanded_df['종합점수'].isnull()])"
      ],
      "metadata": {
        "colab": {
          "base_uri": "https://localhost:8080/"
        },
        "id": "ON-hjGuU0WYl",
        "outputId": "6bd0b60b-045b-4d35-d65b-b50a360ea849"
      },
      "execution_count": null,
      "outputs": [
        {
          "output_type": "stream",
          "name": "stdout",
          "text": [
            "Empty DataFrame\n",
            "Columns: [Year, Month, Category, 종합점수]\n",
            "Index: []\n"
          ]
        }
      ]
    },
    {
      "cell_type": "code",
      "source": [
        "# CSV 파일 저장 경로\n",
        "output_path = '/content/drive/MyDrive/MNIST/미세먼지_종합점수_추출.csv'\n",
        "\n",
        "# CSV 파일로 저장\n",
        "filtered_data.to_csv(output_path, index=False, encoding='utf-8-sig')\n",
        "\n",
        "print(f\"필요한 열만 포함된 데이터가 '{output_path}'에 저장되었습니다.\")\n"
      ],
      "metadata": {
        "colab": {
          "base_uri": "https://localhost:8080/",
          "height": 217
        },
        "id": "eBJnLCOYenFU",
        "outputId": "094ffff6-038d-4cf9-8cdb-4aaaaac1feda"
      },
      "execution_count": null,
      "outputs": [
        {
          "output_type": "error",
          "ename": "NameError",
          "evalue": "name 'filtered_data' is not defined",
          "traceback": [
            "\u001b[0;31m---------------------------------------------------------------------------\u001b[0m",
            "\u001b[0;31mNameError\u001b[0m                                 Traceback (most recent call last)",
            "\u001b[0;32m<ipython-input-1-ceee04225d39>\u001b[0m in \u001b[0;36m<cell line: 5>\u001b[0;34m()\u001b[0m\n\u001b[1;32m      3\u001b[0m \u001b[0;34m\u001b[0m\u001b[0m\n\u001b[1;32m      4\u001b[0m \u001b[0;31m# CSV 파일로 저장\u001b[0m\u001b[0;34m\u001b[0m\u001b[0;34m\u001b[0m\u001b[0m\n\u001b[0;32m----> 5\u001b[0;31m \u001b[0mfiltered_data\u001b[0m\u001b[0;34m.\u001b[0m\u001b[0mto_csv\u001b[0m\u001b[0;34m(\u001b[0m\u001b[0moutput_path\u001b[0m\u001b[0;34m,\u001b[0m \u001b[0mindex\u001b[0m\u001b[0;34m=\u001b[0m\u001b[0;32mFalse\u001b[0m\u001b[0;34m,\u001b[0m \u001b[0mencoding\u001b[0m\u001b[0;34m=\u001b[0m\u001b[0;34m'utf-8-sig'\u001b[0m\u001b[0;34m)\u001b[0m\u001b[0;34m\u001b[0m\u001b[0;34m\u001b[0m\u001b[0m\n\u001b[0m\u001b[1;32m      6\u001b[0m \u001b[0;34m\u001b[0m\u001b[0m\n\u001b[1;32m      7\u001b[0m \u001b[0mprint\u001b[0m\u001b[0;34m(\u001b[0m\u001b[0;34mf\"필요한 열만 포함된 데이터가 '{output_path}'에 저장되었습니다.\"\u001b[0m\u001b[0;34m)\u001b[0m\u001b[0;34m\u001b[0m\u001b[0;34m\u001b[0m\u001b[0m\n",
            "\u001b[0;31mNameError\u001b[0m: name 'filtered_data' is not defined"
          ]
        }
      ]
    },
    {
      "cell_type": "code",
      "source": [
        "import pandas as pd\n",
        "\n",
        "# 저장된 파일 로드\n",
        "output_path = '/content/drive/MyDrive/MNIST/미세먼지_정량_작업용_점수화.csv'\n",
        "data = pd.read_csv(output_path)\n",
        "\n",
        "# 컬럼명 추출\n",
        "columns = data.columns.tolist()\n",
        "\n",
        "# 출력\n",
        "print(\"Columns in the dataset:\")\n",
        "print(columns)\n"
      ],
      "metadata": {
        "colab": {
          "base_uri": "https://localhost:8080/"
        },
        "id": "bChjQhfDZVbr",
        "outputId": "a1703972-ce4e-4d94-a3a2-97499b940f55"
      },
      "execution_count": null,
      "outputs": [
        {
          "output_type": "stream",
          "name": "stdout",
          "text": [
            "Columns in the dataset:\n",
            "['SO2', 'CO', 'O3', 'NO2', 'PM10', 'PM25', '주소', 'Year', 'Month', 'SO2_score', 'CO_score', 'O3_score', 'NO2_score', 'PM10_score', 'PM25_score', '종합점수']\n"
          ]
        }
      ]
    },
    {
      "cell_type": "code",
      "execution_count": null,
      "metadata": {
        "colab": {
          "base_uri": "https://localhost:8080/"
        },
        "id": "ug7UKbRBv-v_",
        "outputId": "d38dcc84-6351-4244-b51f-ef3d840d4a27"
      },
      "outputs": [
        {
          "name": "stdout",
          "output_type": "stream",
          "text": [
            "총 데이터 개수: 24180292\n"
          ]
        }
      ],
      "source": [
        "# 데이터 개수 출력\n",
        "print(f\"총 데이터 개수: {len(data)}\")"
      ]
    },
    {
      "cell_type": "code",
      "execution_count": null,
      "metadata": {
        "colab": {
          "base_uri": "https://localhost:8080/"
        },
        "id": "oMeSrjnSqRGW",
        "outputId": "89bcd776-b35d-48fd-dea8-ac9b2cb6df5d"
      },
      "outputs": [
        {
          "name": "stdout",
          "output_type": "stream",
          "text": [
            "Bottom 5 rows:\n",
            "              지역       망   측정소코드 측정소명        측정일시     SO2    CO      O3  \\\n",
            "24180287  인천 옹진군  국가배경농도  831495   울도  2023073120  0.0019  0.39  0.0186   \n",
            "24180288  인천 옹진군  국가배경농도  831495   울도  2023073121  0.0018  0.39  0.0192   \n",
            "24180289  인천 옹진군  국가배경농도  831495   울도  2023073122  0.0018  0.39  0.0157   \n",
            "24180290  인천 옹진군  국가배경농도  831495   울도  2023073123  0.0019   0.4  0.0146   \n",
            "24180291  인천 옹진군  국가배경농도  831495   울도  2023073124  0.0019  0.39  0.0146   \n",
            "\n",
            "             NO2  PM10 PM25                   주소  \n",
            "24180287  0.0022  16.0  9.0  인천 옹진군 덕적면 울도리 85번지  \n",
            "24180288  0.0028  10.0  6.0  인천 옹진군 덕적면 울도리 85번지  \n",
            "24180289   0.006  15.0  6.0  인천 옹진군 덕적면 울도리 85번지  \n",
            "24180290  0.0068  17.0  5.0  인천 옹진군 덕적면 울도리 85번지  \n",
            "24180291  0.0039  15.0  5.0  인천 옹진군 덕적면 울도리 85번지  \n"
          ]
        }
      ],
      "source": [
        "# 맨 아래 5행 출력\n",
        "print(\"Bottom 5 rows:\")\n",
        "print(data.tail())\n"
      ]
    },
    {
      "cell_type": "code",
      "execution_count": null,
      "metadata": {
        "id": "r9Zg_WMBb1HA"
      },
      "outputs": [],
      "source": [
        "# 열 이름의 공백 제거\n",
        "data.columns = data.columns.str.strip()\n",
        "\n",
        "# 필요한 열만 선택\n",
        "columns_to_keep = ['지역', '망', '측정소코드', '측정소명', '측정일시', 'SO2', 'CO', 'O3', 'NO2', 'PM10', 'PM25']\n",
        "data = data[columns_to_keep]\n"
      ]
    },
    {
      "cell_type": "code",
      "execution_count": null,
      "metadata": {
        "colab": {
          "base_uri": "https://localhost:8080/"
        },
        "id": "3AAsPwxbcj12",
        "outputId": "26a34985-92d2-4087-ef16-dda71cbec8a1"
      },
      "outputs": [
        {
          "name": "stdout",
          "output_type": "stream",
          "text": [
            "object\n",
            "['2020100101' '2020100102' '2020100103' ... '2023073122' '2023073123'\n",
            " '2023073124']\n",
            "         지역  망  측정소코드  측정소명  측정일시  SO2  CO  O3  NO2  PM10  PM25  주소\n",
            "1242962  지역  망  측정소코드  측정소명  측정일시  SO2  CO  O3  NO2  PM10  PM25  주소\n",
            "      지역     망   측정소코드 측정소명        측정일시    SO2   CO     O3    NO2  PM10 PM25  \\\n",
            "0  서울 중구  도시대기  111121   중구  2020100101  0.003  0.3   0.02  0.012  16.0  8.0   \n",
            "1  서울 중구  도시대기  111121   중구  2020100102  0.002  0.3  0.025  0.007   8.0  4.0   \n",
            "2  서울 중구  도시대기  111121   중구  2020100103  0.002  0.3  0.022  0.008   8.0  3.0   \n",
            "3  서울 중구  도시대기  111121   중구  2020100104  0.002  0.3  0.023  0.007   7.0  4.0   \n",
            "4  서울 중구  도시대기  111121   중구  2020100105  0.003  0.3  0.024  0.006   7.0  5.0   \n",
            "\n",
            "              주소    연도   월  \n",
            "0  서울 중구 덕수궁길 15  2020  10  \n",
            "1  서울 중구 덕수궁길 15  2020  10  \n",
            "2  서울 중구 덕수궁길 15  2020  10  \n",
            "3  서울 중구 덕수궁길 15  2020  10  \n",
            "4  서울 중구 덕수궁길 15  2020  10  \n"
          ]
        }
      ],
      "source": [
        "import pandas as pd\n",
        "\n",
        "# CSV 파일 경로\n",
        "file_path = '/content/drive/MyDrive/MNIST/미세먼지_정량.csv'\n",
        "\n",
        "# CSV 파일 읽기\n",
        "data = pd.read_csv(file_path, low_memory=False)\n",
        "\n",
        "# '측정일시' 열의 데이터 유형 확인\n",
        "print(data['측정일시'].dtype)\n",
        "\n",
        "# '측정일시' 열의 고유 값 확인\n",
        "print(data['측정일시'].unique())\n",
        "\n",
        "# '측정일시' 열의 값 중 숫자로 변환할 수 없는 값 찾기\n",
        "invalid_values = data[~data['측정일시'].str.isnumeric()]\n",
        "print(invalid_values)\n",
        "\n",
        "# 숫자로 변환할 수 없는 값이 있는 행 제거\n",
        "data = data[data['측정일시'].str.isnumeric()]\n",
        "\n",
        "# '측정일시'를 문자열로 변환\n",
        "data['측정일시'] = data['측정일시'].astype(str)\n",
        "\n",
        "# 연도와 월 추출\n",
        "data['연도'] = data['측정일시'].str[:4].astype(int)\n",
        "data['월'] = data['측정일시'].str[4:6].astype(int)\n",
        "\n",
        "# 결과 확인\n",
        "print(data.head())\n"
      ]
    },
    {
      "cell_type": "code",
      "execution_count": null,
      "metadata": {
        "id": "I6BlH7YaeCbG"
      },
      "outputs": [],
      "source": [
        "# 오염물질 농도 열을 숫자형으로 변환\n",
        "pollutants = ['SO2', 'CO', 'O3', 'NO2', 'PM10', 'PM25']\n",
        "for pollutant in pollutants:\n",
        "    data[pollutant] = pd.to_numeric(data[pollutant], errors='coerce')\n",
        "\n",
        "# 결측치 제거\n",
        "data = data.dropna(subset=pollutants)\n"
      ]
    },
    {
      "cell_type": "code",
      "execution_count": null,
      "metadata": {
        "id": "7xXOw51ceDV-"
      },
      "outputs": [],
      "source": [
        "# 연도와 월별 평균 계산\n",
        "monthly_avg = data.groupby(['연도', '월'])[pollutants].mean().reset_index()\n"
      ]
    },
    {
      "cell_type": "code",
      "execution_count": null,
      "metadata": {
        "id": "_8wyWsAgeDTo"
      },
      "outputs": [],
      "source": [
        "# 변화 추이 분석\n",
        "for pollutant in pollutants:\n",
        "    monthly_avg[f'{pollutant}_변화'] = monthly_avg[pollutant].diff().apply(\n",
        "        lambda x: '증가' if x > 0 else ('감소' if x < 0 else '변화 없음')\n",
        "    )\n",
        "\n",
        "# 긍정/부정 평가\n",
        "def evaluate_change(row):\n",
        "    evaluation = {}\n",
        "    for pollutant in pollutants:\n",
        "        change = row[f'{pollutant}_변화']\n",
        "        if change == '증가':\n",
        "            evaluation[pollutant] = '부정적 영향'\n",
        "        elif change == '감소':\n",
        "            evaluation[pollutant] = '긍정적 영향'\n",
        "        else:\n",
        "            evaluation[pollutant] = '변화 없음'\n",
        "    return evaluation\n",
        "\n",
        "monthly_avg['평가'] = monthly_avg.apply(evaluate_change, axis=1)\n"
      ]
    },
    {
      "cell_type": "code",
      "execution_count": null,
      "metadata": {
        "id": "0i87YOj4eDRB"
      },
      "outputs": [],
      "source": [
        "# 요약 문구 생성\n",
        "summaries = []\n",
        "for i in range(1, len(monthly_avg)):\n",
        "    current_row = monthly_avg.iloc[i - 1]\n",
        "    next_row = monthly_avg.iloc[i]\n",
        "    summary = f\"{int(next_row['연도'])}년 {int(next_row['월'])}월: \"\n",
        "    details = []\n",
        "    for pollutant in pollutants:\n",
        "        change = next_row[f'{pollutant}_변화']\n",
        "        impact = next_row['평가'][pollutant]\n",
        "        if change != '변화 없음':\n",
        "            details.append(f\"{pollutant} {change} ({impact})\")\n",
        "    summary += \", \".join(details) if details else \"변화 없음\"\n",
        "    summaries.append(summary)\n"
      ]
    },
    {
      "cell_type": "code",
      "execution_count": null,
      "metadata": {
        "colab": {
          "base_uri": "https://localhost:8080/"
        },
        "id": "wPYfrwbzeDO8",
        "outputId": "e97120cd-2e3a-403d-ea45-ce341a9f05ab"
      },
      "outputs": [
        {
          "name": "stdout",
          "output_type": "stream",
          "text": [
            "2020년 2월: SO2 감소 (긍정적 영향), CO 감소 (긍정적 영향), O3 증가 (부정적 영향), NO2 감소 (긍정적 영향), PM10 감소 (긍정적 영향), PM25 감소 (긍정적 영향)\n",
            "2020년 3월: SO2 감소 (긍정적 영향), CO 감소 (긍정적 영향), O3 증가 (부정적 영향), NO2 감소 (긍정적 영향), PM10 증가 (부정적 영향), PM25 감소 (긍정적 영향)\n",
            "2020년 4월: SO2 감소 (긍정적 영향), CO 감소 (긍정적 영향), O3 증가 (부정적 영향), NO2 감소 (긍정적 영향), PM10 증가 (부정적 영향), PM25 감소 (긍정적 영향)\n",
            "2020년 5월: SO2 감소 (긍정적 영향), CO 증가 (부정적 영향), O3 감소 (긍정적 영향), NO2 감소 (긍정적 영향), PM10 감소 (긍정적 영향), PM25 감소 (긍정적 영향)\n",
            "2020년 6월: SO2 증가 (부정적 영향), CO 증가 (부정적 영향), O3 증가 (부정적 영향), NO2 증가 (부정적 영향), PM10 증가 (부정적 영향), PM25 증가 (부정적 영향)\n",
            "2020년 7월: SO2 감소 (긍정적 영향), CO 감소 (긍정적 영향), O3 감소 (긍정적 영향), NO2 감소 (긍정적 영향), PM10 감소 (긍정적 영향), PM25 감소 (긍정적 영향)\n",
            "2020년 8월: SO2 증가 (부정적 영향), CO 감소 (긍정적 영향), O3 감소 (긍정적 영향), NO2 감소 (긍정적 영향), PM10 증가 (부정적 영향), PM25 증가 (부정적 영향)\n",
            "2020년 9월: SO2 감소 (긍정적 영향), CO 증가 (부정적 영향), O3 증가 (부정적 영향), NO2 증가 (부정적 영향), PM10 감소 (긍정적 영향), PM25 감소 (긍정적 영향)\n",
            "2020년 10월: SO2 증가 (부정적 영향), CO 증가 (부정적 영향), O3 감소 (긍정적 영향), NO2 증가 (부정적 영향), PM10 증가 (부정적 영향), PM25 증가 (부정적 영향)\n",
            "2020년 11월: SO2 증가 (부정적 영향), CO 증가 (부정적 영향), O3 감소 (긍정적 영향), NO2 증가 (부정적 영향), PM10 증가 (부정적 영향), PM25 증가 (부정적 영향)\n",
            "2020년 12월: SO2 증가 (부정적 영향), CO 증가 (부정적 영향), O3 감소 (긍정적 영향), NO2 증가 (부정적 영향), PM10 증가 (부정적 영향), PM25 증가 (부정적 영향)\n",
            "2021년 1월: SO2 감소 (긍정적 영향), CO 감소 (긍정적 영향), O3 증가 (부정적 영향), NO2 감소 (긍정적 영향), PM10 증가 (부정적 영향), PM25 감소 (긍정적 영향)\n",
            "2021년 2월: SO2 감소 (긍정적 영향), CO 감소 (긍정적 영향), O3 증가 (부정적 영향), NO2 감소 (긍정적 영향), PM10 증가 (부정적 영향), PM25 증가 (부정적 영향)\n",
            "2021년 3월: SO2 감소 (긍정적 영향), CO 감소 (긍정적 영향), O3 증가 (부정적 영향), NO2 증가 (부정적 영향), PM10 증가 (부정적 영향), PM25 증가 (부정적 영향)\n",
            "2021년 4월: SO2 감소 (긍정적 영향), CO 감소 (긍정적 영향), O3 증가 (부정적 영향), NO2 감소 (긍정적 영향), PM10 감소 (긍정적 영향), PM25 감소 (긍정적 영향)\n",
            "2021년 5월: SO2 감소 (긍정적 영향), CO 감소 (긍정적 영향), O3 감소 (긍정적 영향), NO2 감소 (긍정적 영향), PM10 증가 (부정적 영향), PM25 증가 (부정적 영향)\n",
            "2021년 6월: SO2 증가 (부정적 영향), CO 증가 (부정적 영향), O3 증가 (부정적 영향), NO2 감소 (긍정적 영향), PM10 감소 (긍정적 영향), PM25 감소 (긍정적 영향)\n",
            "2021년 7월: SO2 감소 (긍정적 영향), CO 감소 (긍정적 영향), O3 감소 (긍정적 영향), NO2 감소 (긍정적 영향), PM10 감소 (긍정적 영향), PM25 감소 (긍정적 영향)\n",
            "2021년 8월: SO2 감소 (긍정적 영향), CO 증가 (부정적 영향), O3 감소 (긍정적 영향), NO2 감소 (긍정적 영향), PM10 감소 (긍정적 영향), PM25 감소 (긍정적 영향)\n",
            "2021년 9월: SO2 감소 (긍정적 영향), CO 감소 (긍정적 영향), O3 감소 (긍정적 영향), NO2 감소 (긍정적 영향), PM10 감소 (긍정적 영향), PM25 감소 (긍정적 영향)\n",
            "2021년 10월: SO2 증가 (부정적 영향), CO 증가 (부정적 영향), O3 감소 (긍정적 영향), NO2 증가 (부정적 영향), PM10 증가 (부정적 영향), PM25 증가 (부정적 영향)\n",
            "2021년 11월: SO2 증가 (부정적 영향), CO 증가 (부정적 영향), O3 감소 (긍정적 영향), NO2 증가 (부정적 영향), PM10 증가 (부정적 영향), PM25 증가 (부정적 영향)\n",
            "2021년 12월: SO2 증가 (부정적 영향), CO 증가 (부정적 영향), O3 감소 (긍정적 영향), NO2 증가 (부정적 영향), PM10 감소 (긍정적 영향), PM25 감소 (긍정적 영향)\n",
            "2022년 1월: SO2 증가 (부정적 영향), CO 증가 (부정적 영향), O3 증가 (부정적 영향), NO2 증가 (부정적 영향), PM10 증가 (부정적 영향), PM25 증가 (부정적 영향)\n",
            "2022년 2월: SO2 감소 (긍정적 영향), CO 감소 (긍정적 영향), O3 증가 (부정적 영향), NO2 감소 (긍정적 영향), PM10 감소 (긍정적 영향), PM25 감소 (긍정적 영향)\n",
            "2022년 3월: SO2 감소 (긍정적 영향), CO 감소 (긍정적 영향), O3 증가 (부정적 영향), NO2 증가 (부정적 영향), PM10 증가 (부정적 영향), PM25 감소 (긍정적 영향)\n",
            "2022년 4월: SO2 감소 (긍정적 영향), CO 감소 (긍정적 영향), O3 증가 (부정적 영향), NO2 감소 (긍정적 영향), PM10 감소 (긍정적 영향), PM25 감소 (긍정적 영향)\n",
            "2022년 5월: SO2 증가 (부정적 영향), CO 감소 (긍정적 영향), O3 증가 (부정적 영향), NO2 감소 (긍정적 영향), PM10 감소 (긍정적 영향), PM25 감소 (긍정적 영향)\n",
            "2022년 6월: SO2 감소 (긍정적 영향), CO 감소 (긍정적 영향), O3 감소 (긍정적 영향), NO2 감소 (긍정적 영향), PM10 감소 (긍정적 영향), PM25 감소 (긍정적 영향)\n",
            "2022년 7월: SO2 증가 (부정적 영향), CO 증가 (부정적 영향), O3 감소 (긍정적 영향), NO2 증가 (부정적 영향), PM10 증가 (부정적 영향), PM25 증가 (부정적 영향)\n",
            "2022년 8월: SO2 감소 (긍정적 영향), CO 감소 (긍정적 영향), O3 감소 (긍정적 영향), NO2 감소 (긍정적 영향), PM10 감소 (긍정적 영향), PM25 감소 (긍정적 영향)\n",
            "2022년 9월: SO2 증가 (부정적 영향), CO 증가 (부정적 영향), O3 증가 (부정적 영향), NO2 증가 (부정적 영향), PM10 증가 (부정적 영향), PM25 증가 (부정적 영향)\n",
            "2022년 10월: SO2 증가 (부정적 영향), CO 증가 (부정적 영향), O3 감소 (긍정적 영향), NO2 증가 (부정적 영향), PM10 증가 (부정적 영향), PM25 증가 (부정적 영향)\n",
            "2022년 11월: SO2 증가 (부정적 영향), CO 증가 (부정적 영향), O3 감소 (긍정적 영향), NO2 증가 (부정적 영향), PM10 증가 (부정적 영향), PM25 증가 (부정적 영향)\n",
            "2022년 12월: SO2 감소 (긍정적 영향), CO 감소 (긍정적 영향), O3 감소 (긍정적 영향), NO2 감소 (긍정적 영향), PM10 감소 (긍정적 영향), PM25 감소 (긍정적 영향)\n",
            "2023년 1월: SO2 증가 (부정적 영향), CO 증가 (부정적 영향), O3 증가 (부정적 영향), NO2 증가 (부정적 영향), PM10 증가 (부정적 영향), PM25 증가 (부정적 영향)\n",
            "2023년 2월: SO2 증가 (부정적 영향), CO 감소 (긍정적 영향), O3 증가 (부정적 영향), NO2 증가 (부정적 영향), PM10 감소 (긍정적 영향), PM25 증가 (부정적 영향)\n",
            "2023년 3월: SO2 감소 (긍정적 영향), CO 감소 (긍정적 영향), O3 증가 (부정적 영향), NO2 감소 (긍정적 영향), PM10 증가 (부정적 영향), PM25 감소 (긍정적 영향)\n",
            "2023년 4월: SO2 감소 (긍정적 영향), CO 감소 (긍정적 영향), O3 증가 (부정적 영향), NO2 감소 (긍정적 영향), PM10 증가 (부정적 영향), PM25 감소 (긍정적 영향)\n",
            "2023년 5월: SO2 증가 (부정적 영향), CO 감소 (긍정적 영향), O3 증가 (부정적 영향), NO2 감소 (긍정적 영향), PM10 감소 (긍정적 영향), PM25 감소 (긍정적 영향)\n",
            "2023년 6월: SO2 감소 (긍정적 영향), CO 증가 (부정적 영향), O3 증가 (부정적 영향), NO2 감소 (긍정적 영향), PM10 감소 (긍정적 영향), PM25 감소 (긍정적 영향)\n",
            "2023년 7월: SO2 감소 (긍정적 영향), CO 감소 (긍정적 영향), O3 감소 (긍정적 영향), NO2 감소 (긍정적 영향), PM10 감소 (긍정적 영향), PM25 감소 (긍정적 영향)\n",
            "2023년 8월: SO2 증가 (부정적 영향), CO 증가 (부정적 영향), O3 감소 (긍정적 영향), NO2 감소 (긍정적 영향), PM10 감소 (긍정적 영향), PM25 감소 (긍정적 영향)\n",
            "2023년 9월: SO2 감소 (긍정적 영향), CO 증가 (부정적 영향), O3 감소 (긍정적 영향), NO2 증가 (부정적 영향), PM10 감소 (긍정적 영향), PM25 감소 (긍정적 영향)\n",
            "2023년 10월: SO2 증가 (부정적 영향), CO 증가 (부정적 영향), O3 감소 (긍정적 영향), NO2 증가 (부정적 영향), PM10 증가 (부정적 영향), PM25 증가 (부정적 영향)\n",
            "2023년 11월: SO2 증가 (부정적 영향), CO 증가 (부정적 영향), O3 감소 (긍정적 영향), NO2 증가 (부정적 영향), PM10 증가 (부정적 영향), PM25 증가 (부정적 영향)\n",
            "2023년 12월: SO2 증가 (부정적 영향), CO 증가 (부정적 영향), O3 감소 (긍정적 영향), NO2 증가 (부정적 영향), PM10 증가 (부정적 영향), PM25 증가 (부정적 영향)\n",
            "2024년 1월: SO2 증가 (부정적 영향), CO 증가 (부정적 영향), O3 증가 (부정적 영향), NO2 감소 (긍정적 영향), PM10 감소 (긍정적 영향), PM25 증가 (부정적 영향)\n",
            "2024년 2월: SO2 감소 (긍정적 영향), CO 감소 (긍정적 영향), O3 증가 (부정적 영향), NO2 감소 (긍정적 영향), PM10 감소 (긍정적 영향), PM25 감소 (긍정적 영향)\n",
            "2024년 3월: SO2 증가 (부정적 영향), CO 감소 (긍정적 영향), O3 증가 (부정적 영향), NO2 감소 (긍정적 영향), PM10 증가 (부정적 영향), PM25 증가 (부정적 영향)\n",
            "2024년 4월: SO2 증가 (부정적 영향), CO 감소 (긍정적 영향), O3 증가 (부정적 영향), NO2 증가 (부정적 영향), PM10 증가 (부정적 영향), PM25 증가 (부정적 영향)\n"
          ]
        }
      ],
      "source": [
        "# 결과 출력\n",
        "for summary in summaries:\n",
        "    print(summary)\n"
      ]
    },
    {
      "cell_type": "code",
      "execution_count": null,
      "metadata": {
        "colab": {
          "base_uri": "https://localhost:8080/"
        },
        "id": "G7awVSqGlYl-",
        "outputId": "6c120a14-e7fd-44d8-873d-6f0bce65b744"
      },
      "outputs": [
        {
          "name": "stdout",
          "output_type": "stream",
          "text": [
            "object\n",
            "['2020100101' '2020100102' '2020100103' ... '2023073122' '2023073123'\n",
            " '2023073124']\n",
            "         지역  망  측정소코드  측정소명  측정일시  SO2  CO  O3  NO2  PM10  PM25  주소\n",
            "1242962  지역  망  측정소코드  측정소명  측정일시  SO2  CO  O3  NO2  PM10  PM25  주소\n",
            "       연도     월                                                 요약\n",
            "0  2020.0   2.0  2020년 2월에는 SO2이 좋아짐. CO이 좋아짐. O3이 나빠짐. NO2이 좋아...\n",
            "1  2020.0   3.0  2020년 3월에는 SO2이 좋아짐. CO이 좋아짐. O3이 나빠짐. NO2이 좋아...\n",
            "2  2020.0   4.0  2020년 4월에는 SO2이 좋아짐. CO이 좋아짐. O3이 나빠짐. NO2이 좋아...\n",
            "3  2020.0   5.0  2020년 5월에는 SO2이 좋아짐. CO이 나빠짐. O3이 좋아짐. NO2이 좋아...\n",
            "4  2020.0   6.0  2020년 6월에는 SO2이 나빠짐. CO이 나빠짐. O3이 나빠짐. NO2이 나빠...\n",
            "5  2020.0   7.0  2020년 7월에는 SO2이 좋아짐. CO이 좋아짐. O3이 좋아짐. NO2이 좋아...\n",
            "6  2020.0   8.0  2020년 8월에는 SO2이 나빠짐. CO이 좋아짐. O3이 좋아짐. NO2이 좋아...\n",
            "7  2020.0   9.0  2020년 9월에는 SO2이 좋아짐. CO이 나빠짐. O3이 나빠짐. NO2이 나빠...\n",
            "8  2020.0  10.0  2020년 10월에는 SO2이 나빠짐. CO이 나빠짐. O3이 좋아짐. NO2이 나...\n",
            "9  2020.0  11.0  2020년 11월에는 SO2이 나빠짐. CO이 나빠짐. O3이 좋아짐. NO2이 나...\n"
          ]
        }
      ],
      "source": [
        "import pandas as pd\n",
        "\n",
        "# CSV 파일 경로\n",
        "file_path = '/content/drive/MyDrive/MNIST/미세먼지_정량.csv'\n",
        "\n",
        "# CSV 파일 읽기\n",
        "data = pd.read_csv(file_path, low_memory=False)\n",
        "\n",
        "# '측정일시' 열의 데이터 유형 확인\n",
        "print(data['측정일시'].dtype)\n",
        "\n",
        "# '측정일시' 열의 고유 값 확인\n",
        "print(data['측정일시'].unique())\n",
        "\n",
        "# '측정일시' 열의 값 중 숫자로 변환할 수 없는 값 찾기\n",
        "invalid_values = data[~data['측정일시'].str.isnumeric()]\n",
        "print(invalid_values)\n",
        "\n",
        "# 숫자로 변환할 수 없는 값이 있는 행 제거\n",
        "data = data[data['측정일시'].str.isnumeric()]\n",
        "\n",
        "# '측정일시'를 문자열로 변환\n",
        "data['측정일시'] = data['측정일시'].astype(str)\n",
        "\n",
        "# 연도와 월 추출\n",
        "data['연도'] = data['측정일시'].str[:4].astype(int)\n",
        "data['월'] = data['측정일시'].str[4:6].astype(int)\n",
        "\n",
        "\n",
        "# 오염물질 목록\n",
        "pollutants = ['SO2', 'CO', 'O3', 'NO2', 'PM10', 'PM25']\n",
        "\n",
        "# 오염물질 농도 열을 숫자형으로 변환\n",
        "for pollutant in pollutants:\n",
        "    data[pollutant] = pd.to_numeric(data[pollutant], errors='coerce')\n",
        "\n",
        "# 결측치 제거\n",
        "data = data.dropna(subset=pollutants)\n",
        "\n",
        "# 연도와 월별 평균 계산\n",
        "monthly_avg = data.groupby(['연도', '월'])[pollutants].mean().reset_index()\n",
        "\n",
        "# 변화 추이 분석 및 긍정/부정 평가\n",
        "summaries = []\n",
        "for i in range(1, len(monthly_avg)):\n",
        "    current_row = monthly_avg.iloc[i - 1]\n",
        "    next_row = monthly_avg.iloc[i]\n",
        "    if current_row['연도'] == next_row['연도']:  # 같은 연도 내에서만 비교\n",
        "        text = f\"{int(next_row['연도'])}년 {int(next_row['월'])}월에는 \"\n",
        "        changes = []\n",
        "        for pollutant in pollutants:\n",
        "            if next_row[pollutant] > current_row[pollutant]:\n",
        "                change = '증가'\n",
        "                impact = '나빠짐'\n",
        "            elif next_row[pollutant] < current_row[pollutant]:\n",
        "                change = '감소'\n",
        "                impact = '좋아짐'\n",
        "            else:\n",
        "                change = '변화 없음'\n",
        "                impact = '변화 없음'\n",
        "            if change != '변화 없음':\n",
        "                changes.append(f\"{pollutant}이 {impact}.\")\n",
        "        text += \" \".join(changes)\n",
        "        summaries.append({'연도': next_row['연도'], '월': next_row['월'], '요약': text})\n",
        "\n",
        "# 결과를 데이터프레임으로 저장\n",
        "summary_df = pd.DataFrame(summaries)\n",
        "\n",
        "# 결과 저장\n",
        "summary_df.to_csv('/content/drive/MyDrive/MNIST/대기환경_정량_데이터.csv', index=False, encoding='utf-8-sig')\n",
        "\n",
        "# 결과 확인\n",
        "print(summary_df.head(10))"
      ]
    },
    {
      "cell_type": "code",
      "execution_count": null,
      "metadata": {
        "colab": {
          "base_uri": "https://localhost:8080/"
        },
        "id": "ap8OG4__gwse",
        "outputId": "8dc19e40-98d7-4b34-91b1-641b969edc0c"
      },
      "outputs": [
        {
          "name": "stdout",
          "output_type": "stream",
          "text": [
            "       연도     월                                                 요약 datatype  \\\n",
            "0  2020.0   2.0  2020년 2월에는 SO2이 좋아짐. CO이 좋아짐. O3이 나빠짐. NO2이 좋아...       정량   \n",
            "1  2020.0   3.0  2020년 3월에는 SO2이 좋아짐. CO이 좋아짐. O3이 나빠짐. NO2이 좋아...       정량   \n",
            "2  2020.0   4.0  2020년 4월에는 SO2이 좋아짐. CO이 좋아짐. O3이 나빠짐. NO2이 좋아...       정량   \n",
            "3  2020.0   5.0  2020년 5월에는 SO2이 좋아짐. CO이 나빠짐. O3이 좋아짐. NO2이 좋아...       정량   \n",
            "4  2020.0   6.0  2020년 6월에는 SO2이 나빠짐. CO이 나빠짐. O3이 나빠짐. NO2이 나빠...       정량   \n",
            "5  2020.0   7.0  2020년 7월에는 SO2이 좋아짐. CO이 좋아짐. O3이 좋아짐. NO2이 좋아...       정량   \n",
            "6  2020.0   8.0  2020년 8월에는 SO2이 나빠짐. CO이 좋아짐. O3이 좋아짐. NO2이 좋아...       정량   \n",
            "7  2020.0   9.0  2020년 9월에는 SO2이 좋아짐. CO이 나빠짐. O3이 나빠짐. NO2이 나빠...       정량   \n",
            "8  2020.0  10.0  2020년 10월에는 SO2이 나빠짐. CO이 나빠짐. O3이 좋아짐. NO2이 나...       정량   \n",
            "9  2020.0  11.0  2020년 11월에는 SO2이 나빠짐. CO이 나빠짐. O3이 좋아짐. NO2이 나...       정량   \n",
            "\n",
            "  category  \n",
            "0     미세먼지  \n",
            "1     미세먼지  \n",
            "2     미세먼지  \n",
            "3     미세먼지  \n",
            "4     미세먼지  \n",
            "5     미세먼지  \n",
            "6     미세먼지  \n",
            "7     미세먼지  \n",
            "8     미세먼지  \n",
            "9     미세먼지  \n"
          ]
        }
      ],
      "source": [
        "import pandas as pd\n",
        "\n",
        "# summary_df에 'datatype' 열과 'category' 열 추가\n",
        "summary_df['datatype'] = '정량'\n",
        "summary_df['category'] = '미세먼지'\n",
        "\n",
        "# 결과 저장\n",
        "output_file_path = '/content/drive/MyDrive/MNIST/대기환경_정량_데이터.csv'\n",
        "summary_df.to_csv(output_file_path, index=False, encoding='utf-8-sig')\n",
        "\n",
        "# 결과 확인\n",
        "print(summary_df.head(10))\n"
      ]
    },
    {
      "cell_type": "code",
      "execution_count": null,
      "metadata": {
        "id": "McMYccHUgwqo"
      },
      "outputs": [],
      "source": []
    },
    {
      "cell_type": "code",
      "execution_count": null,
      "metadata": {
        "id": "qtANmejJcjzO"
      },
      "outputs": [],
      "source": []
    },
    {
      "cell_type": "code",
      "execution_count": null,
      "metadata": {
        "id": "ovBmgnoscjw4"
      },
      "outputs": [],
      "source": []
    },
    {
      "cell_type": "code",
      "execution_count": null,
      "metadata": {
        "id": "Aa9GLrRicjui"
      },
      "outputs": [],
      "source": []
    },
    {
      "cell_type": "code",
      "execution_count": null,
      "metadata": {
        "id": "fTTeNnp1cjrJ"
      },
      "outputs": [],
      "source": []
    },
    {
      "cell_type": "code",
      "execution_count": null,
      "metadata": {
        "colab": {
          "base_uri": "https://localhost:8080/",
          "height": 1000
        },
        "id": "qe3cUWJb08oz",
        "outputId": "25333e84-2ec2-48c3-d019-8635bce28983"
      },
      "outputs": [
        {
          "name": "stderr",
          "output_type": "stream",
          "text": [
            "<ipython-input-11-44aa81072b07>:7: SettingWithCopyWarning: \n",
            "A value is trying to be set on a copy of a slice from a DataFrame.\n",
            "Try using .loc[row_indexer,col_indexer] = value instead\n",
            "\n",
            "See the caveats in the documentation: https://pandas.pydata.org/pandas-docs/stable/user_guide/indexing.html#returning-a-view-versus-a-copy\n",
            "  filtered_data['년도월'] = pd.to_datetime(filtered_data['년도'].astype(str) + '-' + filtered_data['월'].astype(str))\n",
            "/usr/local/lib/python3.10/dist-packages/IPython/core/pylabtools.py:151: UserWarning: Glyph 54217 (\\N{HANGUL SYLLABLE PYEONG}) missing from current font.\n",
            "  fig.canvas.print_figure(bytes_io, **kw)\n",
            "/usr/local/lib/python3.10/dist-packages/IPython/core/pylabtools.py:151: UserWarning: Glyph 44512 (\\N{HANGUL SYLLABLE GYUN}) missing from current font.\n",
            "  fig.canvas.print_figure(bytes_io, **kw)\n",
            "/usr/local/lib/python3.10/dist-packages/IPython/core/pylabtools.py:151: UserWarning: Glyph 13197 (\\N{SQUARE MU G}) missing from current font.\n",
            "  fig.canvas.print_figure(bytes_io, **kw)\n",
            "/usr/local/lib/python3.10/dist-packages/IPython/core/pylabtools.py:151: UserWarning: Glyph 13221 (\\N{SQUARE M CUBED}) missing from current font.\n",
            "  fig.canvas.print_figure(bytes_io, **kw)\n",
            "/usr/local/lib/python3.10/dist-packages/IPython/core/pylabtools.py:151: UserWarning: Glyph 45380 (\\N{HANGUL SYLLABLE NYEON}) missing from current font.\n",
            "  fig.canvas.print_figure(bytes_io, **kw)\n",
            "/usr/local/lib/python3.10/dist-packages/IPython/core/pylabtools.py:151: UserWarning: Glyph 50900 (\\N{HANGUL SYLLABLE WEOL}) missing from current font.\n",
            "  fig.canvas.print_figure(bytes_io, **kw)\n",
            "/usr/local/lib/python3.10/dist-packages/IPython/core/pylabtools.py:151: UserWarning: Glyph 48324 (\\N{HANGUL SYLLABLE BYEOL}) missing from current font.\n",
            "  fig.canvas.print_figure(bytes_io, **kw)\n",
            "/usr/local/lib/python3.10/dist-packages/IPython/core/pylabtools.py:151: UserWarning: Glyph 48120 (\\N{HANGUL SYLLABLE MI}) missing from current font.\n",
            "  fig.canvas.print_figure(bytes_io, **kw)\n",
            "/usr/local/lib/python3.10/dist-packages/IPython/core/pylabtools.py:151: UserWarning: Glyph 49464 (\\N{HANGUL SYLLABLE SE}) missing from current font.\n",
            "  fig.canvas.print_figure(bytes_io, **kw)\n",
            "/usr/local/lib/python3.10/dist-packages/IPython/core/pylabtools.py:151: UserWarning: Glyph 47676 (\\N{HANGUL SYLLABLE MEON}) missing from current font.\n",
            "  fig.canvas.print_figure(bytes_io, **kw)\n",
            "/usr/local/lib/python3.10/dist-packages/IPython/core/pylabtools.py:151: UserWarning: Glyph 51648 (\\N{HANGUL SYLLABLE JI}) missing from current font.\n",
            "  fig.canvas.print_figure(bytes_io, **kw)\n",
            "/usr/local/lib/python3.10/dist-packages/IPython/core/pylabtools.py:151: UserWarning: Glyph 46020 (\\N{HANGUL SYLLABLE DO}) missing from current font.\n",
            "  fig.canvas.print_figure(bytes_io, **kw)\n"
          ]
        },
        {
          "data": {
            "image/png": "[encoded data removed]",
            "text/plain": [
              "<Figure size 1500x600 with 1 Axes>"
            ]
          },
          "metadata": {},
          "output_type": "display_data"
        }
      ],
      "source": [
        "import matplotlib.pyplot as plt\n",
        "\n",
        "# PM10 값이 0이 아닌 데이터만 필터링\n",
        "filtered_data = monthly_avg[monthly_avg['PM10'] != 0]\n",
        "\n",
        "# 년도와 월을 결합해 시계열 데이터 생성\n",
        "filtered_data['년도월'] = pd.to_datetime(filtered_data['년도'].astype(str) + '-' + filtered_data['월'].astype(str))\n",
        "\n",
        "# 시계열 그래프 그리기\n",
        "plt.figure(figsize=(15, 6))\n",
        "plt.plot(filtered_data['년도월'], filtered_data['PM10'], marker='o')\n",
        "plt.title('2020년~2024년 월별 미세먼지 평균 (PM10)', fontsize=16)\n",
        "plt.xlabel('년도-월', fontsize=12)\n",
        "plt.ylabel('평균 PM10 (㎍/㎥)', fontsize=12)\n",
        "plt.grid()\n",
        "plt.show()\n"
      ]
    }
  ],
  "metadata": {
    "accelerator": "GPU",
    "colab": {
      "gpuType": "T4",
      "machine_shape": "hm",
      "provenance": []
    },
    "kernelspec": {
      "display_name": "Python 3",
      "name": "python3"
    },
    "language_info": {
      "name": "python"
    }
  },
  "nbformat": 4,
  "nbformat_minor": 0
}