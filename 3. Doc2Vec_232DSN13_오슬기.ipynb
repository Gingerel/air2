{
 "cells": [
  {
   "cell_type": "markdown",
   "id": "6eb66928",
   "metadata": {},
   "source": [
    "# Doc2Vec 모델"
   ]
  },
  {
   "cell_type": "markdown",
   "id": "199b4dbe",
   "metadata": {},
   "source": [
    "# 국민청원으로 진행"
   ]
  },
  {
   "cell_type": "code",
   "execution_count": 1,
   "id": "1e9d946b",
   "metadata": {},
   "outputs": [],
   "source": [
    "import pandas as pd\n",
    "from konlpy.tag import Mecab\n",
    "from gensim.models.doc2vec import TaggedDocument\n",
    "from tqdm import tqdm"
   ]
  },
  {
   "cell_type": "code",
   "execution_count": 2,
   "id": "d9dde3ce",
   "metadata": {},
   "outputs": [
    {
     "data": {
      "text/html": [
       "<div>\n",
       "<style scoped>\n",
       "    .dataframe tbody tr th:only-of-type {\n",
       "        vertical-align: middle;\n",
       "    }\n",
       "\n",
       "    .dataframe tbody tr th {\n",
       "        vertical-align: top;\n",
       "    }\n",
       "\n",
       "    .dataframe thead th {\n",
       "        text-align: right;\n",
       "    }\n",
       "</style>\n",
       "<table border=\"1\" class=\"dataframe\">\n",
       "  <thead>\n",
       "    <tr style=\"text-align: right;\">\n",
       "      <th></th>\n",
       "      <th>category</th>\n",
       "      <th>begin</th>\n",
       "      <th>end</th>\n",
       "      <th>content</th>\n",
       "      <th>num_agree</th>\n",
       "      <th>petition_idx</th>\n",
       "      <th>status</th>\n",
       "      <th>title</th>\n",
       "    </tr>\n",
       "  </thead>\n",
       "  <tbody>\n",
       "    <tr>\n",
       "      <th>0</th>\n",
       "      <td>보건복지</td>\n",
       "      <td>2018-05-01</td>\n",
       "      <td>2018-05-31</td>\n",
       "      <td>강원랜드를 폐업해 주실 것을 간곡히 부탁 드립니다. 강원랜드는 70년대에서 80년대...</td>\n",
       "      <td>1</td>\n",
       "      <td>216512</td>\n",
       "      <td>청원종료</td>\n",
       "      <td>강원랜드를 폐업해 주세요</td>\n",
       "    </tr>\n",
       "    <tr>\n",
       "      <th>1</th>\n",
       "      <td>육아/교육</td>\n",
       "      <td>2018-05-01</td>\n",
       "      <td>2018-05-31</td>\n",
       "      <td>요즘 대부분 초등학생이나 중학생들은 헌법이 탄생했던 날인 제헌절이 언제인지, 심하면...</td>\n",
       "      <td>1</td>\n",
       "      <td>216513</td>\n",
       "      <td>청원종료</td>\n",
       "      <td>제헌절을 기념할 수 있게 해주세요!</td>\n",
       "    </tr>\n",
       "    <tr>\n",
       "      <th>2</th>\n",
       "      <td>정치개혁</td>\n",
       "      <td>2018-05-01</td>\n",
       "      <td>2018-05-31</td>\n",
       "      <td>대한민국 헌법학자들은 정당의 해산에 대해서 이렇게 말하고 있습니다. \" 위헌정당해산...</td>\n",
       "      <td>245</td>\n",
       "      <td>216514</td>\n",
       "      <td>청원종료</td>\n",
       "      <td>자유한국당 정당해산 만이 이 나라의 살 길입니다.</td>\n",
       "    </tr>\n",
       "    <tr>\n",
       "      <th>3</th>\n",
       "      <td>보건복지</td>\n",
       "      <td>2018-05-01</td>\n",
       "      <td>2018-05-31</td>\n",
       "      <td>안녕하세요? 몇년전 저는 직장을 다니다가 그만두고 일을 하지 않았고 수입은 없었습니...</td>\n",
       "      <td>6</td>\n",
       "      <td>216515</td>\n",
       "      <td>청원종료</td>\n",
       "      <td>국민건강보험 수정할 사항 두가지 제안합니다.</td>\n",
       "    </tr>\n",
       "    <tr>\n",
       "      <th>4</th>\n",
       "      <td>외교/통일/국방</td>\n",
       "      <td>2018-05-01</td>\n",
       "      <td>2018-05-31</td>\n",
       "      <td>저는 군인자녀 입니다. 저는 군대가 정말 좋고 그 조직에 대해 긍정적인 생각도 갖고...</td>\n",
       "      <td>1390</td>\n",
       "      <td>216516</td>\n",
       "      <td>청원종료</td>\n",
       "      <td>저희 아버지를 살려주세요.....</td>\n",
       "    </tr>\n",
       "    <tr>\n",
       "      <th>...</th>\n",
       "      <td>...</td>\n",
       "      <td>...</td>\n",
       "      <td>...</td>\n",
       "      <td>...</td>\n",
       "      <td>...</td>\n",
       "      <td>...</td>\n",
       "      <td>...</td>\n",
       "      <td>...</td>\n",
       "    </tr>\n",
       "    <tr>\n",
       "      <th>25271</th>\n",
       "      <td>문화/예술/체육/언론</td>\n",
       "      <td>2018-05-31</td>\n",
       "      <td>2018-06-30</td>\n",
       "      <td>부산광역시에 있는 적폐구단 롯데자이언츠 야구단을 해체 시켜주세요... 부산시민의 정...</td>\n",
       "      <td>5</td>\n",
       "      <td>257849</td>\n",
       "      <td>청원종료</td>\n",
       "      <td>롯데 자이언츠 야구단 해체 부탁드립니다</td>\n",
       "    </tr>\n",
       "    <tr>\n",
       "      <th>25272</th>\n",
       "      <td>안전/환경</td>\n",
       "      <td>2018-05-31</td>\n",
       "      <td>2018-06-30</td>\n",
       "      <td>LG전자 퓨리케어 정수기 광고를 보고 렌탈을 했습니다. 모든 직수관을 교체해주고 매...</td>\n",
       "      <td>5</td>\n",
       "      <td>257851</td>\n",
       "      <td>청원종료</td>\n",
       "      <td>LG전자 퓨리케어 정수기 냉수관만 갈아주고 다갈아준척!</td>\n",
       "    </tr>\n",
       "    <tr>\n",
       "      <th>25273</th>\n",
       "      <td>기타</td>\n",
       "      <td>2018-05-31</td>\n",
       "      <td>2018-06-30</td>\n",
       "      <td>안녕하세요. 다름이 아니라 중,고등학교 수업시간 5분 단축에 대해 적어 보려고 합니...</td>\n",
       "      <td>3</td>\n",
       "      <td>257853</td>\n",
       "      <td>청원종료</td>\n",
       "      <td>중,고등학교 수업시간 5분씩 단축</td>\n",
       "    </tr>\n",
       "    <tr>\n",
       "      <th>25274</th>\n",
       "      <td>정치개혁</td>\n",
       "      <td>2018-05-31</td>\n",
       "      <td>2018-06-30</td>\n",
       "      <td>1, 지방할당제,지역인재를 폐지해주세요 2, 이력서에 성별,가족정보,학력,사진 등을...</td>\n",
       "      <td>2</td>\n",
       "      <td>257854</td>\n",
       "      <td>청원종료</td>\n",
       "      <td>정의로운 사회를 위한 20가지 부탁입니다.</td>\n",
       "    </tr>\n",
       "    <tr>\n",
       "      <th>25275</th>\n",
       "      <td>기타</td>\n",
       "      <td>2018-05-31</td>\n",
       "      <td>2018-06-30</td>\n",
       "      <td>요즘 청원을 장난으로 하는사람들이 많아졌습니다. 청원및 제안하는게 장난도아닌데 이렇...</td>\n",
       "      <td>2</td>\n",
       "      <td>257858</td>\n",
       "      <td>청원종료</td>\n",
       "      <td>장난치는사람들 해결해주세요</td>\n",
       "    </tr>\n",
       "  </tbody>\n",
       "</table>\n",
       "<p>25276 rows × 8 columns</p>\n",
       "</div>"
      ],
      "text/plain": [
       "          category       begin         end  \\\n",
       "0             보건복지  2018-05-01  2018-05-31   \n",
       "1            육아/교육  2018-05-01  2018-05-31   \n",
       "2             정치개혁  2018-05-01  2018-05-31   \n",
       "3             보건복지  2018-05-01  2018-05-31   \n",
       "4         외교/통일/국방  2018-05-01  2018-05-31   \n",
       "...            ...         ...         ...   \n",
       "25271  문화/예술/체육/언론  2018-05-31  2018-06-30   \n",
       "25272        안전/환경  2018-05-31  2018-06-30   \n",
       "25273           기타  2018-05-31  2018-06-30   \n",
       "25274         정치개혁  2018-05-31  2018-06-30   \n",
       "25275           기타  2018-05-31  2018-06-30   \n",
       "\n",
       "                                                 content  num_agree  \\\n",
       "0      강원랜드를 폐업해 주실 것을 간곡히 부탁 드립니다. 강원랜드는 70년대에서 80년대...          1   \n",
       "1      요즘 대부분 초등학생이나 중학생들은 헌법이 탄생했던 날인 제헌절이 언제인지, 심하면...          1   \n",
       "2      대한민국 헌법학자들은 정당의 해산에 대해서 이렇게 말하고 있습니다. \" 위헌정당해산...        245   \n",
       "3      안녕하세요? 몇년전 저는 직장을 다니다가 그만두고 일을 하지 않았고 수입은 없었습니...          6   \n",
       "4      저는 군인자녀 입니다. 저는 군대가 정말 좋고 그 조직에 대해 긍정적인 생각도 갖고...       1390   \n",
       "...                                                  ...        ...   \n",
       "25271  부산광역시에 있는 적폐구단 롯데자이언츠 야구단을 해체 시켜주세요... 부산시민의 정...          5   \n",
       "25272  LG전자 퓨리케어 정수기 광고를 보고 렌탈을 했습니다. 모든 직수관을 교체해주고 매...          5   \n",
       "25273  안녕하세요. 다름이 아니라 중,고등학교 수업시간 5분 단축에 대해 적어 보려고 합니...          3   \n",
       "25274  1, 지방할당제,지역인재를 폐지해주세요 2, 이력서에 성별,가족정보,학력,사진 등을...          2   \n",
       "25275  요즘 청원을 장난으로 하는사람들이 많아졌습니다. 청원및 제안하는게 장난도아닌데 이렇...          2   \n",
       "\n",
       "       petition_idx status                           title  \n",
       "0            216512   청원종료                   강원랜드를 폐업해 주세요  \n",
       "1            216513   청원종료             제헌절을 기념할 수 있게 해주세요!  \n",
       "2            216514   청원종료     자유한국당 정당해산 만이 이 나라의 살 길입니다.  \n",
       "3            216515   청원종료        국민건강보험 수정할 사항 두가지 제안합니다.  \n",
       "4            216516   청원종료              저희 아버지를 살려주세요.....  \n",
       "...             ...    ...                             ...  \n",
       "25271        257849   청원종료           롯데 자이언츠 야구단 해체 부탁드립니다  \n",
       "25272        257851   청원종료  LG전자 퓨리케어 정수기 냉수관만 갈아주고 다갈아준척!  \n",
       "25273        257853   청원종료              중,고등학교 수업시간 5분씩 단축  \n",
       "25274        257854   청원종료         정의로운 사회를 위한 20가지 부탁입니다.  \n",
       "25275        257858   청원종료                  장난치는사람들 해결해주세요  \n",
       "\n",
       "[25276 rows x 8 columns]"
      ]
     },
     "execution_count": 2,
     "metadata": {},
     "output_type": "execute_result"
    }
   ],
   "source": [
    "df = pd.read_json(\"/Users/helloworld/Desktop/TM_finalHW/public.txt\", lines=True)\n",
    "df = df.dropna()\n",
    "df"
   ]
  },
  {
   "cell_type": "code",
   "execution_count": 3,
   "id": "8d0e5ca6",
   "metadata": {},
   "outputs": [
    {
     "name": "stderr",
     "output_type": "stream",
     "text": [
      "100%|█████████████████████████████████████| 25276/25276 [08:57<00:00, 46.99it/s]"
     ]
    },
    {
     "name": "stdout",
     "output_type": "stream",
     "text": [
      "문서의 수 : 25276\n"
     ]
    },
    {
     "name": "stderr",
     "output_type": "stream",
     "text": [
      "\n"
     ]
    }
   ],
   "source": [
    "#mecab = Mecab()\n",
    "from konlpy.tag import Okt\n",
    "okt = Okt()\n",
    "\n",
    "tagged_corpus_list = []\n",
    "\n",
    "for index, row in tqdm(df.iterrows(), total=len(df)):\n",
    "    text = row['content']\n",
    "    tag = row['category']\n",
    "    tagged_corpus_list.append(TaggedDocument(tags=[tag], words=okt.morphs(text)))\n",
    "\n",
    "print('문서의 수 :', len(tagged_corpus_list))"
   ]
  },
  {
   "cell_type": "code",
   "execution_count": 4,
   "id": "c1ec0c59",
   "metadata": {},
   "outputs": [
    {
     "data": {
      "text/plain": [
       "TaggedDocument(words=['강원랜드', '를', '폐업', '해', '주실', '것', '을', '간곡히', '부탁', '드립니다', '.', '강원랜드', '는', '70년', '대에서', '80년', '대에', '걸쳐', '강원도', '지역', '의', '탄광', '이', '경제력', '을', '상실하면서', '폐광', '으로', '변하고', '지역', '경제', '가', '낙후', '되면서', '그', '대안', '으로', '만들어진', '기관', '입니다', '.', '하지만', '강원랜드', '로', '인해', '강원도', '태백', '이나', '사', '북', ',', '정선', '지역', '의', '지역', '경제', '는', '전혀', '좋아지지', '않고', '있으며', '오히려', '전국', '적', '으로', '도박', '중독', '자', '가', '급증', '하고', '있습니다', '.', '도박', '으로', '인한', '피해자', '는', '매년', '수조', '원', '에', '이를', '정도', '로', '막대', '합니다', '.', '도박', '으로', '인해', '전', '재산', '을', '잃고', '목숨', '을', '내던지는', '사람', '도', '부지기', '수고', '가정', '이', '파탄', '나', '는', '사람', '들', '도', '부지', '기수', '입니다', '.', '끊을', '수', '없는', '도박', '으로', '인해', '장기', '를', '불법', '으로', '밀', '매하', '는', '세력', '들', '이', '판', '을', '치고', '있으며', '고', '한', '터미널', '에서는', '이', '들', '이', '실제', '활동', '하고', '있기도', '합니다', '.', '강원랜드', '에', '근무', '하는', '직원', '들', '도', '문제', '입니다', '.', '이미', '알려진', '것', '처럼', '부정', '채용', '은', '물론', '협력', '사', '에', '대한', '도를', '넘은', '갑질', '이', '예사', '입니다', '.', '영월', '에', '만들어진', '테마', '파크', '는', '수백억', '이', '들어갔음에도', '불구', '하고', '몇', '년', '동안', '운영', '되지', '않은', '채', '방치', '되고', '있으며', '아무', '일도', '없는', '곳', '에', '직원', '들', '이', '매일', '같이', '출근', '을', '합니다', '.', '돈', '아까운', '줄', '모르고', '펑펑', '써', '대면서도', '자신', '들', '이', '무엇', '을', '잘못', '하고', '있는지조차', '모르는', '파렴치', '집단', '입니다', '.', '이', '들', '이', '도대체', '왜', '존재', '해야', '하는', '건가', '요', '?', '강원도', '지역', '의', '경제', '는', '도박', '으로', '살릴', '수', '없습니다', '.', '그', '문제', '는', '다른', '관점', '에서', '다른', '방법', '으로', '해결', '해야', '합니다', '.', '작', '금', '의', '강원랜드', '는', '오로지', '직원', '들', '을', '호의호식', '하게', '만들기', '위해', '존재', '할', '뿐입니다', '.', '극소', '수의', '직원', '들', '을', '위해', '존재', '하는', '시설', ',', '반면', '도박중독', '자', '를', '비롯', '하여', '수', '많은', '부정', '과', '비리', ',', '부패', ',', '갑', '질의', '온상', '인', '강원랜드', '를', '지속', '운영', '해야', '하는', '이유', '가', '더', '이상', '없다고', '여겨집니다', '.', '강원랜드', '를', '폐업', '해', '주', '시기', '바랍니다', '.'], tags=['보건복지'])"
      ]
     },
     "execution_count": 4,
     "metadata": {},
     "output_type": "execute_result"
    }
   ],
   "source": [
    "tagged_corpus_list[0]"
   ]
  },
  {
   "cell_type": "code",
   "execution_count": 5,
   "id": "8135a0c2",
   "metadata": {},
   "outputs": [],
   "source": [
    "from gensim.models import doc2vec"
   ]
  },
  {
   "cell_type": "code",
   "execution_count": 6,
   "id": "4f27f353",
   "metadata": {},
   "outputs": [],
   "source": [
    "model = doc2vec.Doc2Vec(vector_size=300, alpha=0.025, min_alpha=0.025, workers=8, window=8)\n",
    "\n",
    "# Vocabulary 빌드\n",
    "model.build_vocab(tagged_corpus_list)\n",
    "#print(f\"Tag Size: {len(model.docvecs.doctags.keys())}\", end=' / ')\n",
    "\n",
    "# Doc2Vec 학습\n",
    "model.train(tagged_corpus_list, total_examples=model.corpus_count, epochs=50)\n",
    "\n",
    "# 모델 저장\n",
    "model.save('dart.doc2vec')"
   ]
  },
  {
   "cell_type": "code",
   "execution_count": 12,
   "id": "b8e0c92b",
   "metadata": {},
   "outputs": [
    {
     "name": "stdout",
     "output_type": "stream",
     "text": [
      "[('기타', 0.5397420525550842), ('일자리', 0.5170778036117554), ('인권/성평등', 0.487715482711792), ('미래', 0.487052321434021), ('행정', 0.4850016236305237), ('안전/환경', 0.4688567817211151), ('보건복지', 0.4679356813430786), ('교통/건축/국토', 0.4394204616546631), ('성장동력', 0.4286**********48), ('경제민주화', 0.42453110218048096)]\n"
     ]
    },
    {
     "name": "stderr",
     "output_type": "stream",
     "text": [
      "/var/folders/l4/_52f5tz1673fvwyphb2jx1gr0000gn/T/ipykernel_2862/1239986538.py:1: DeprecationWarning: Call to deprecated `docvecs` (The `docvecs` property has been renamed `dv`.).\n",
      "  similar_doc = model.docvecs.most_similar('정치개혁')\n"
     ]
    }
   ],
   "source": [
    "similar_doc = model.docvecs.most_similar('정치개혁')\n",
    "print(similar_doc)"
   ]
  },
  {
   "cell_type": "code",
   "execution_count": 13,
   "id": "019a2c9b",
   "metadata": {},
   "outputs": [
    {
     "name": "stdout",
     "output_type": "stream",
     "text": [
      "[('교통/건축/국토', 0.5554327368736267), ('행정', 0.5055608749389648), ('기타', 0.4985090494155884), ('보건복지', 0.4855753183364868), ('정치개혁', 0.4688568115234375), ('일자리', 0.464589387178421), ('인권/성평등', 0.44296470284461975), ('외교/통일/국방', 0.4364461302757263), ('미래', 0.41732320189476013), ('경제민주화', 0.4082812964916229)]\n"
     ]
    },
    {
     "name": "stderr",
     "output_type": "stream",
     "text": [
      "/var/folders/l4/_52f5tz1673fvwyphb2jx1gr0000gn/T/ipykernel_2862/3473184836.py:1: DeprecationWarning: Call to deprecated `docvecs` (The `docvecs` property has been renamed `dv`.).\n",
      "  similar_doc = model.docvecs.most_similar('안전/환경')\n"
     ]
    }
   ],
   "source": [
    "similar_doc = model.docvecs.most_similar('안전/환경')\n",
    "print(similar_doc)"
   ]
  },
  {
   "cell_type": "code",
   "execution_count": 14,
   "id": "f209434b",
   "metadata": {},
   "outputs": [
    {
     "name": "stdout",
     "output_type": "stream",
     "text": [
      "[('저출산/고령화대책', 0.4900619387626648), ('기타', 0.4750668406486511), ('인권/성평등', 0.4609**********44), ('일자리', 0.45701512694358826), ('보건복지', 0.45326516032218933), ('교통/건축/국토', 0.41707655787467957), ('외교/통일/국방', 0.40959587693214417), ('안전/환경', 0.4003660976886749), ('정치개혁', 0.3977015018463135), ('행정', 0.3922950327396393)]\n"
     ]
    },
    {
     "name": "stderr",
     "output_type": "stream",
     "text": [
      "/var/folders/l4/_52f5tz1673fvwyphb2jx1gr0000gn/T/ipykernel_2862/1097640030.py:1: DeprecationWarning: Call to deprecated `docvecs` (The `docvecs` property has been renamed `dv`.).\n",
      "  similar_doc = model.docvecs.most_similar('육아/교육')\n"
     ]
    }
   ],
   "source": [
    "similar_doc = model.docvecs.most_similar('육아/교육')\n",
    "print(similar_doc)"
   ]
  },
  {
   "cell_type": "code",
   "execution_count": 15,
   "id": "588840aa",
   "metadata": {},
   "outputs": [
    {
     "name": "stdout",
     "output_type": "stream",
     "text": [
      "[('기타', 0.43245014548301697), ('행정', 0.41975852847099304), ('일자리', 0.40595003962516785), ('미래', 0.4037962257862091), ('성장동력', 0.39033347368240356), ('정치개혁', 0.3900865912437439), ('안전/환경', 0.3886770009994507), ('보건복지', 0.381672203540802), ('외교/통일/국방', 0.38102099299430847), ('경제민주화', 0.36488038301467896)]\n"
     ]
    },
    {
     "name": "stderr",
     "output_type": "stream",
     "text": [
      "/var/folders/l4/_52f5tz1673fvwyphb2jx1gr0000gn/T/ipykernel_2862/944522681.py:1: DeprecationWarning: Call to deprecated `docvecs` (The `docvecs` property has been renamed `dv`.).\n",
      "  similar_doc = model.docvecs.most_similar('문화/예술/체육/언론')\n"
     ]
    }
   ],
   "source": [
    "similar_doc = model.docvecs.most_similar('문화/예술/체육/언론')\n",
    "print(similar_doc)"
   ]
  },
  {
   "cell_type": "code",
   "execution_count": 16,
   "id": "25a5506e",
   "metadata": {},
   "outputs": [
    {
     "name": "stdout",
     "output_type": "stream",
     "text": [
      "[('보건복지', 0.4737381339073181), ('행정', 0.46492159366607666), ('인권/성평등', 0.4524056315422058), ('안전/환경', 0.43644610047340393), ('기타', 0.43407490849494934), ('일자리', 0.4244188070297241), ('미래', 0.4139195680618286), ('육아/교육', 0.4095958471298218), ('교통/건축/국토', 0.40083643794059753), ('정치개혁', 0.39453309774398804)]\n"
     ]
    },
    {
     "name": "stderr",
     "output_type": "stream",
     "text": [
      "/var/folders/l4/_52f5tz1673fvwyphb2jx1gr0000gn/T/ipykernel_2862/1343730510.py:1: DeprecationWarning: Call to deprecated `docvecs` (The `docvecs` property has been renamed `dv`.).\n",
      "  similar_doc = model.docvecs.most_similar('외교/통일/국방')\n"
     ]
    }
   ],
   "source": [
    "similar_doc = model.docvecs.most_similar('외교/통일/국방')\n",
    "print(similar_doc)"
   ]
  },
  {
   "cell_type": "code",
   "execution_count": null,
   "id": "a2b8b8f2",
   "metadata": {},
   "outputs": [],
   "source": []
  }
 ],
 "metadata": {
  "kernelspec": {
   "display_name": "Python 3 (ipykernel)",
   "language": "python",
   "name": "python3"
  },
  "language_info": {
   "codemirror_mode": {
    "name": "ipython",
    "version": 3
   },
   "file_extension": ".py",
   "mimetype": "text/x-python",
   "name": "python",
   "nbconvert_exporter": "python",
   "pygments_lexer": "ipython3",
   "version": "3.10.9"
  }
 },
 "nbformat": 4,
 "nbformat_minor": 5
}
